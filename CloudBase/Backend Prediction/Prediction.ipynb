{
 "cells": [
  {
   "cell_type": "code",
   "execution_count": 5,
   "metadata": {},
   "outputs": [],
   "source": [
    "import pandas as pd\n",
    "import math\n",
    "import csv\n",
    "import random\n",
    "import numpy as np\n",
    "from sklearn import linear_model\n",
    "from sklearn.model_selection import cross_val_score"
   ]
  },
  {
   "cell_type": "code",
   "execution_count": 6,
   "metadata": {},
   "outputs": [],
   "source": [
    "## Base Variable elco\n",
    "base_score = 1600\n",
    "team_score = {}\n",
    "X = []\n",
    "y = []"
   ]
  },
  {
   "cell_type": "code",
   "execution_count": 7,
   "metadata": {},
   "outputs": [],
   "source": [
    "def get_score(teamName):\n",
    "    try:\n",
    "        return teams_score[teamName]\n",
    "    except:\n",
    "        team_score[teamName] = base_score\n",
    "        return team_score[team]"
   ]
  },
  {
   "cell_type": "code",
   "execution_count": 8,
   "metadata": {},
   "outputs": [],
   "source": [
    "def calculate_score(winner,loser):\n",
    "    winner_score = get_score(winner)\n",
    "    loser_score  = get_score(loser)\n",
    "    diff_score = winner_score - loser_score\n",
    "    expect_score  = (-1 * diff) / 400\n",
    "    odds = 1 / (1 + math.pow(10, expect_score))\n",
    "    if winner_score < 2100:\n",
    "        k = 32\n",
    "    elif winner_score <2400:\n",
    "        k = 25\n",
    "    else:\n",
    "        k = 16\n",
    "    new_winner_score = round(winner_score + (k * (1 - odds)))\n",
    "    new_loser_score  = round(loser_socre + ( k * (0 - odds)))\n",
    "    return new_winner_score, new_loser_score"
   ]
  },
  {
   "cell_type": "code",
   "execution_count": null,
   "metadata": {},
   "outputs": [],
   "source": [
    "def build_dataset(all_data):\n",
    "    X = []\n",
    "    for match in all_data:\n",
    "        team1 = match[0]\n",
    "        team2  = match[1]\n",
    "        loc    = match[2]\n",
    "        \n",
    "        team1_score = get_score(team1)\n",
    "        team2_score  = get_score(team2)\n",
    "        if loc == \"H\":\n",
    "            team1_score == 100\n",
    "        else:\n",
    "            team2_score += 100\n",
    "        \n",
    "        team1_features = [team1_score]\n",
    "        team2_features = [team2_score]\n",
    "        \n",
    "        for key,value in team_stats.loc[team1]:\n",
    "            team1.features.append(value)\n",
    "        for key,value in team_stats.loc[team2]:\n",
    "            team2_features.append(value)\n",
    "        if np.random.choice([1,2]) == 1:\n",
    "            X.append(team1_features + team2_features)\n",
    "            y.append(0)\n",
    "        else:\n",
    "            X.append(team2_features + team1_features )\n",
    "            y.append(1)\n",
    "        new_winner_score, new_loser_score = calc_elo(team1,team2)\n",
    "        \n",
    "    return np.nan_to_num(X),y"
   ]
  },
  {
   "cell_type": "code",
   "execution_count": null,
   "metadata": {},
   "outputs": [],
   "source": [
    "def initialize(model):\n",
    "    return model"
   ]
  },
  {
   "cell_type": "code",
   "execution_count": null,
   "metadata": {},
   "outputs": [],
   "source": [
    "def prediction(team1,team2,model):\n",
    "    features = []\n",
    "    score1 = get_score(team_1)\n",
    "    for key,value in team_stats.lic"
   ]
  }
 ],
 "metadata": {
  "kernelspec": {
   "display_name": "Python 3",
   "language": "python",
   "name": "python3"
  },
  "language_info": {
   "codemirror_mode": {
    "name": "ipython",
    "version": 3
   },
   "file_extension": ".py",
   "mimetype": "text/x-python",
   "name": "python",
   "nbconvert_exporter": "python",
   "pygments_lexer": "ipython3",
   "version": "3.7.1"
  }
 },
 "nbformat": 4,
 "nbformat_minor": 2
}
